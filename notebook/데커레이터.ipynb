{
 "cells": [
  {
   "cell_type": "markdown",
   "metadata": {},
   "source": [
    "## 변수 범위 규칙"
   ]
  },
  {
   "cell_type": "code",
   "execution_count": null,
   "metadata": {},
   "outputs": [],
   "source": [
    "# 변수 범위 규칙\n",
    "def f1(a):\n",
    "    print(a)\n",
    "    print(b)\n",
    "\n",
    "\n",
    "# 에러남\n",
    "f1(3)\n",
    "\n",
    "# 성공\n",
    "b = 6\n",
    "f1(3)\n"
   ]
  },
  {
   "cell_type": "code",
   "execution_count": null,
   "metadata": {},
   "outputs": [],
   "source": [
    "# 함수 본체 안에서 값을 할당하기 때문에 지역변수가 되는 b\n",
    "b = 6\n",
    "\n",
    "\n",
    "def f2(a):\n",
    "    global b\n",
    "    print(\"a = \", a)\n",
    "    print(\"b = \", b)\n",
    "    b = 10\n",
    "\n",
    "\n",
    "f2(1)\n"
   ]
  },
  {
   "cell_type": "code",
   "execution_count": null,
   "metadata": {},
   "outputs": [],
   "source": [
    "# x는 글로벌 변수이다.\n",
    "# foo 함수 내에서 x는 자유 변수이다.\n",
    "x = 1\n",
    "\n",
    "\n",
    "def foo():\n",
    "    print(x)\n",
    "\n",
    "\n",
    "# outer_func는 지역변수 n이 있다.\n",
    "# inner_func 에는 지역변수 m 과 n 이 있다.\n",
    "def outer_func():\n",
    "    n = 1\n",
    "\n",
    "    def inner_func():\n",
    "        m = 2\n",
    "        print(n)\n",
    "        print(m)\n",
    "\n",
    "    return inner_func\n",
    "\n",
    "\n",
    "func = outer_func()\n",
    "print(func.__code__.co_freevars)\n"
   ]
  },
  {
   "cell_type": "markdown",
   "metadata": {},
   "source": [
    "## 클래스를 사용해서 평균 구하기"
   ]
  },
  {
   "cell_type": "code",
   "execution_count": null,
   "metadata": {},
   "outputs": [],
   "source": [
    "class Avg:\n",
    "    def __init__(self):\n",
    "        self.nums = []\n",
    "\n",
    "    def __call__(self, value):\n",
    "        self.nums.append(value)\n",
    "        total = sum(self.nums)\n",
    "        return total / len(self.nums)\n",
    "\n",
    "\n",
    "avg = Avg()\n",
    "\n",
    "\n",
    "print(avg(10))\n",
    "print(avg(11))\n",
    "print(avg(12))\n"
   ]
  },
  {
   "cell_type": "markdown",
   "metadata": {},
   "source": [
    "## 고계함수를 사용해서 평균 구하기"
   ]
  },
  {
   "cell_type": "code",
   "execution_count": null,
   "metadata": {},
   "outputs": [],
   "source": [
    "# 고계함수를 사용한 버전\n",
    "def make_avg():\n",
    "    arr = []\n",
    "\n",
    "    def func(value):\n",
    "        arr.append(value)\n",
    "        total = sum(arr)\n",
    "        return total / len(arr)\n",
    "\n",
    "    return func\n",
    "\n",
    "\n",
    "avg = make_avg()\n",
    "\n",
    "\n",
    "print(avg(10))\n",
    "print(avg(11))\n",
    "print(avg(12))\n"
   ]
  },
  {
   "cell_type": "markdown",
   "metadata": {},
   "source": [
    "## 이력을 남기지 않고 평균 구하기"
   ]
  },
  {
   "cell_type": "code",
   "execution_count": null,
   "metadata": {},
   "outputs": [],
   "source": [
    "def make_avg2():\n",
    "    count = 0\n",
    "    total = 0\n",
    "\n",
    "    def func(value):\n",
    "        nonlocal count, total\n",
    "        count += 1\n",
    "        total += value\n",
    "        return total / count\n",
    "\n",
    "    return func\n",
    "\n",
    "\n",
    "avg = make_avg2()\n",
    "\n",
    "\n",
    "print(avg(10))\n",
    "print(avg(11))\n",
    "print(avg(12))\n"
   ]
  },
  {
   "cell_type": "markdown",
   "metadata": {},
   "source": [
    "## 데커레이터1"
   ]
  },
  {
   "cell_type": "code",
   "execution_count": null,
   "metadata": {},
   "outputs": [],
   "source": [
    "def decorate(func):\n",
    "    def decorated():\n",
    "        print(\"==\" * 20)\n",
    "        print(\"before\")\n",
    "        func()\n",
    "        print(\"after\")\n",
    "\n",
    "    return decorated\n",
    "\n",
    "\n",
    "@decorate\n",
    "def target():\n",
    "    print(\"target 함수\")\n",
    "\n",
    "\n",
    "target()\n",
    "\n",
    "\n",
    "\n",
    "def target2():\n",
    "    print(\"target2 함수 실행함\")\n",
    "\n",
    "\n",
    "target2 = decorate(target2)\n",
    "target2()\n",
    "\n"
   ]
  },
  {
   "cell_type": "markdown",
   "metadata": {},
   "source": [
    "## 데커레이터 2"
   ]
  },
  {
   "cell_type": "code",
   "execution_count": null,
   "metadata": {},
   "outputs": [],
   "source": [
    "deco2 = []\n",
    "\n",
    "\n",
    "def register(func):\n",
    "    print(f\"레지스트리에 등록! {func}\")\n",
    "    deco2.append(func)\n",
    "    return func\n",
    "\n",
    "\n",
    "@register\n",
    "def f1():\n",
    "    print(\"f1 실행\")\n",
    "\n",
    "\n",
    "@register\n",
    "def f2():\n",
    "    print(\"f2 실행\")\n",
    "\n",
    "\n",
    "@register\n",
    "def f3():\n",
    "    print(\"f3 실행\")\n",
    "\n",
    "\n",
    "def main():\n",
    "    print(\"============================\")\n",
    "    print(f\"레지스트리에 등록된거 보실? {deco2}\")\n",
    "    f1()\n",
    "    f2()\n",
    "    f3()\n",
    "\n",
    "\n",
    "if __name__ == \"__main__\":\n",
    "    main()\n"
   ]
  },
  {
   "cell_type": "markdown",
   "metadata": {},
   "source": [
    "## 데커레이터 3"
   ]
  },
  {
   "cell_type": "code",
   "execution_count": null,
   "metadata": {},
   "outputs": [],
   "source": [
    "import time\n",
    "import functools\n",
    "\n",
    "\n",
    "def clock(func):\n",
    "    @functools.wraps(func)\n",
    "    def clocked(*args, **kwargs):\n",
    "        before = time.perf_counter()\n",
    "        result = func(*args, **kwargs)\n",
    "        elapsed_time = time.perf_counter() - before\n",
    "        arg_str = \",\".join(repr(arg) for arg in args)\n",
    "        if kwargs:\n",
    "            print(\"kwargs : \", **kwargs)\n",
    "        print(f\"{elapsed_time:.8f} {func.__name__} {arg_str} {result}\")\n",
    "        return result\n",
    "\n",
    "    return clocked\n",
    "\n",
    "\n",
    "@clock\n",
    "def snooze(seconds):\n",
    "    time.sleep(seconds)\n",
    "\n",
    "\n",
    "@clock\n",
    "def factorial(n):\n",
    "    return 1 if n < 2 else n * factorial(n - 1)\n",
    "\n",
    "\n",
    "print(\"*\" * 40, \"call snooze(.123)\")\n",
    "print(\"func snooze :\", snooze)\n",
    "snooze(0.123)\n",
    "\n",
    "print(\"*\" * 40, \"call factorial(10)\")\n",
    "print(\"func factorial :\", factorial)\n",
    "print(\"10! = \", factorial(10))\n"
   ]
  },
  {
   "cell_type": "markdown",
   "metadata": {},
   "source": [
    "## 데커레이터 템플릿"
   ]
  },
  {
   "cell_type": "code",
   "execution_count": 12,
   "metadata": {},
   "outputs": [],
   "source": [
    "import functools\n",
    "\n",
    "# 파라메터가 있는 데커레이터를 위한 템플릿\n",
    "def decorator_with_param(param):\n",
    "    def decorator(func):\n",
    "        @functools.wraps(func)\n",
    "        def wrapper(*args, **kwargs):\n",
    "            # 전처리\n",
    "            result = func(*args, **kwargs)\n",
    "            # 후처리\n",
    "            return result\n",
    "\n",
    "        return wrapper\n",
    "\n",
    "    return decorator"
   ]
  },
  {
   "cell_type": "markdown",
   "metadata": {},
   "source": [
    "## 파라메터가 있는 데커레이터 1"
   ]
  },
  {
   "cell_type": "code",
   "execution_count": null,
   "metadata": {},
   "outputs": [],
   "source": [
    "import functools\n",
    "\n",
    "\n",
    "def title(symbol, len=20):\n",
    "    def decorator(func):\n",
    "        @functools.wraps(func)\n",
    "        def wrapper(*args, **kwargs):\n",
    "            print(symbol * len)\n",
    "            result = func(*args, **kwargs)\n",
    "            print(symbol * len)\n",
    "            return result\n",
    "\n",
    "        return wrapper\n",
    "\n",
    "    return decorator\n",
    "\n",
    "\n",
    "@title(\"*\", 15)\n",
    "def print_name(name):\n",
    "    print(name)\n",
    "    return name\n",
    "\n",
    "\n",
    "@title(\"-\", 10)\n",
    "def print_company(company):\n",
    "    print(company)\n",
    "    return company\n",
    "\n",
    "\n",
    "print_name(\"seungkyoo park\")\n",
    "print_company(\"my company\")\n"
   ]
  },
  {
   "cell_type": "markdown",
   "metadata": {},
   "source": [
    "## 파라메터가 있는 데커레이터 2"
   ]
  },
  {
   "cell_type": "code",
   "execution_count": null,
   "metadata": {},
   "outputs": [],
   "source": [
    "import time\n",
    "import functools\n",
    "\n",
    "DEFAULT_FORMAT = \"[ELAPSED_TIME : {elapsed_time:.8f}] {name} {_args} -> {result}\"\n",
    "\n",
    "\n",
    "def clock(format=DEFAULT_FORMAT):\n",
    "    def decorator(func):\n",
    "        @functools.wraps(func)\n",
    "        def clocked(*args, **kwargs):\n",
    "            before = time.perf_counter()\n",
    "            result = func(*args, **kwargs)\n",
    "            _args = \",\".join(repr(arg) for arg in args)\n",
    "            elapsed_time = time.perf_counter() - before\n",
    "            name = func.__name__\n",
    "            print(format.format(**locals()))\n",
    "            return result\n",
    "\n",
    "        return clocked\n",
    "\n",
    "    return decorator\n",
    "\n",
    "\n",
    "@clock()\n",
    "def snooze(seconds):\n",
    "    time.sleep(seconds)\n",
    "\n",
    "\n",
    "@clock(\"[{name}] calls spend {elapsed_time:.8f} s\")\n",
    "def factorial(n):\n",
    "    return 1 if n < 2 else n * factorial(n - 1)\n",
    "\n",
    "\n",
    "print(\"*\" * 40, \"call snooze(.123)\")\n",
    "snooze(0.123)\n",
    "\n",
    "print(\"*\" * 40, \"call factorial(10)\")\n",
    "print(\"10! = \", factorial(10))\n"
   ]
  }
 ],
 "metadata": {
  "kernelspec": {
   "display_name": "py37",
   "language": "python",
   "name": "py37"
  },
  "language_info": {
   "codemirror_mode": {
    "name": "ipython",
    "version": 3
   },
   "file_extension": ".py",
   "mimetype": "text/x-python",
   "name": "python",
   "nbconvert_exporter": "python",
   "pygments_lexer": "ipython3",
   "version": "3.7.3"
  }
 },
 "nbformat": 4,
 "nbformat_minor": 2
}
